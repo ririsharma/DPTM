{
 "cells": [
  {
   "cell_type": "markdown",
   "metadata": {},
   "source": [
    "### File to test Azure OCR connection"
   ]
  },
  {
   "cell_type": "code",
   "execution_count": 1,
   "metadata": {},
   "outputs": [],
   "source": [
    "from azure.cognitiveservices.vision.computervision import ComputerVisionClient\n",
    "from msrest.authentication import CognitiveServicesCredentials\n",
    "from azure.cognitiveservices.vision.computervision.models import OperationStatusCodes\n",
    "from PIL import Image\n",
    "from dotenv import load_dotenv, find_dotenv\n",
    "import time\n",
    "import os"
   ]
  },
  {
   "cell_type": "code",
   "execution_count": 2,
   "metadata": {},
   "outputs": [],
   "source": [
    "# Load environment variables from the .env file\n",
    "load_dotenv(find_dotenv())\n",
    "\n",
    "COMPUTER_VISION_KEY = os.getenv(\"CV_KEY\")\n",
    "COMPUTER_VISION_ENDPOINT = os.getenv(\"CV_ENDPOINT\")"
   ]
  },
  {
   "cell_type": "code",
   "execution_count": 3,
   "metadata": {},
   "outputs": [],
   "source": [
    "computervision_client = ComputerVisionClient(COMPUTER_VISION_ENDPOINT, CognitiveServicesCredentials(COMPUTER_VISION_KEY))"
   ]
  },
  {
   "cell_type": "code",
   "execution_count": 4,
   "metadata": {},
   "outputs": [
    {
     "name": "stdout",
     "output_type": "stream",
     "text": [
      "Utilization of OCR and LLM to decode medical diagnostics/\n",
      "prescriptions into general-purpose language\n",
      "Raveesh Yadav, Riya Sharma, Poonam Chaudhary\n",
      "CSE, SOET, The NorthCap University, Gurugram, Haryana, India\n",
      "1. Abstract\n",
      "Reading and understanding medical reports is a crucial challenge for individuals due to lack of specialised\n",
      "medical knowledge, especially due to more use of high-level medical terminology. This obstacle can create\n",
      "hinder between healthcare providers and patients in effective communication, which can lead to\n",
      "misunderstandings and not so optimal healthcare outcomes.\n",
      "To address this challenge, we propose an innovative solution to such problem with the help of large language\n",
      "models (LLMs) and optical character recognition (OCR). With the help of LLMs we interpret and decode\n",
      "complex medical terminology within reports, so that more people can understand medical reports better.\n",
      "With OCR technology we extract the texts from medical documents which helps the text from medical\n",
      "documents fit smoothly with the LLMs way of understanding and decoding. We aim to use both technologies\n",
      "together to solve the challenge of understanding medical reports. This will help improve how patients and\n",
      "healthcare providers communicate, leading to better healthcare for everyone.\n",
      "2. Introduction\n",
      "Reading and understanding medical reports is a crucial challenge for individuals due to lack of specialised\n",
      "medical knowledge, especially due to more use of high-level medical terminology. This obstacle can create\n",
      "hinder between healthcare providers and patients in effective communication, which can lead to\n",
      "misunderstandings and not so optimal healthcare outcomes.\n",
      "Challenge. The problem possesses non-technical as well as technical problems that have been addressed.\n",
      "Communication gap between medical document and patients due to usage of high level medical terms is the\n",
      "non technical gap in this problem. Lack of domain specific knowledge lead to misunderstandings and havoc\n",
      "patients regarding their medical conditions. As this problem has been addressed previously [1] [2], there are\n",
      "various technical problems also (a) use of traditional machine learning algorithms require training dataset as\n",
      "a medical dictionary to translate domain specific terms requires regular updates to keep up with the domain\n",
      "advancements. (b) Space demand by the dataset. (c) Slower and variable response time depending on\n",
      "terminology required to decode.\n",
      "Contribution. In this paper, we have presented a solution by implementing LLM alongside OCR to decode\n",
      "the prescriptions into a general purpose language in a space efficient as well as time and cost efficient\n",
      "manner. By proposing use of LLM, we aim to eradicate the use of traditional dataset based decoding\n",
      "mechanism leading to a major space and speed optimisation. This paper also proposes use of more efficient\n",
      "cloud based OCR tools available to improve the quality of understanding scanned documents and accurately\n",
      "extracting texts from them.\n",
      "3. Literature Review\n",
      "There have been various attempts on addressing the issue of understanding clinical notes. Optical Character\n",
      "Recognition (OCR) being the core concept used to extract the text written on scanned document, the\n",
      "methodologies used to translate the medical terminologies differ.\n",
      "The research paper on \"Automated Digitisation of Unstructured Medical Prescription\" [3] offers a solution\n",
      "which understands the medication from prescription and adds them to online pharmacy basket. The concept\n",
      "used here to extract the text from prescriptions in OCR. The OCR bounding boxes which contain the text\n",
      "data. Rotation and cropping is performed on the image to remove the background. Entities on the image are\n",
      "1\n"
     ]
    }
   ],
   "source": [
    "# Open local image file\n",
    "with open(\"sample_image.png\", \"rb\") as image:\n",
    "    read_response = computervision_client.read_in_stream(image, raw=True)\n",
    "# Get the operation location (URL with an ID at the end)\n",
    "read_operation_location = read_response.headers[\"Operation-Location\"]\n",
    "# Grab the ID from the URL\n",
    "operation_id = read_operation_location.split(\"/\")[-1]\n",
    "# Retrieve the results \n",
    "while True:\n",
    "    read_result = computervision_client.get_read_result(operation_id)\n",
    "    if read_result.status.lower() not in ['notstarted', 'running']:\n",
    "        break\n",
    "    time.sleep(1)\n",
    "# Get the detected text\n",
    "if read_result.status == OperationStatusCodes.succeeded:\n",
    "    for page in read_result.analyze_result.read_results:\n",
    "        for line in page.lines:\n",
    "            # Print line\n",
    "            print(line.text)"
   ]
  },
  {
   "cell_type": "code",
   "execution_count": null,
   "metadata": {},
   "outputs": [],
   "source": []
  }
 ],
 "metadata": {
  "kernelspec": {
   "display_name": "dptmenv",
   "language": "python",
   "name": "python3"
  },
  "language_info": {
   "codemirror_mode": {
    "name": "ipython",
    "version": 3
   },
   "file_extension": ".py",
   "mimetype": "text/x-python",
   "name": "python",
   "nbconvert_exporter": "python",
   "pygments_lexer": "ipython3",
   "version": "3.9.12"
  }
 },
 "nbformat": 4,
 "nbformat_minor": 2
}
