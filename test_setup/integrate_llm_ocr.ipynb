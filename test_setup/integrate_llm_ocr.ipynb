{
 "cells": [
  {
   "cell_type": "markdown",
   "metadata": {},
   "source": [
    "### File to test OCR and LLM connection"
   ]
  },
  {
   "cell_type": "code",
   "execution_count": 1,
   "metadata": {},
   "outputs": [],
   "source": [
    "# Import LLM support libraries\n",
    "from langchain.llms import AzureOpenAI\n",
    "\n",
    "# Import OCR support libraries\n",
    "from azure.cognitiveservices.vision.computervision import ComputerVisionClient\n",
    "from msrest.authentication import CognitiveServicesCredentials\n",
    "from azure.cognitiveservices.vision.computervision.models import OperationStatusCodes\n",
    "from PIL import Image\n",
    "\n",
    "# Import general libraries\n",
    "from dotenv import load_dotenv, find_dotenv\n",
    "import time\n",
    "import os"
   ]
  },
  {
   "cell_type": "code",
   "execution_count": 2,
   "metadata": {},
   "outputs": [],
   "source": [
    "# Load environment variables from the .env file\n",
    "load_dotenv(find_dotenv())\n",
    "\n",
    "# Retrieve Azure OpenAI specific configuration from environment variables\n",
    "OPENAI_API_KEY = os.getenv(\"AZURE_OPENAI_API_KEY\")\n",
    "OPENAI_API_TYPE = os.getenv(\"AZURE_OPENAI_API_TYPE\")\n",
    "OPENAI_API_BASE = os.getenv(\"AZURE_OPENAI_API_BASE\")\n",
    "OPENAI_API_VERSION = os.getenv(\"AZURE_OPENAI_API_VERSION\")\n",
    "LLM_RESOURCE_NAME = os.getenv(\"LLM_RESOURCE_NAME\")\n",
    "COMPUTER_VISION_KEY = os.getenv(\"CV_KEY\")\n",
    "COMPUTER_VISION_ENDPOINT = os.getenv(\"CV_ENDPOINT\")"
   ]
  },
  {
   "cell_type": "code",
   "execution_count": 3,
   "metadata": {},
   "outputs": [
    {
     "name": "stderr",
     "output_type": "stream",
     "text": [
      "/var/folders/qh/sckhy9cx1y13y4gg32cmhqv80000gn/T/ipykernel_4266/2301410953.py:4: LangChainDeprecationWarning: The class `AzureOpenAI` was deprecated in LangChain 0.0.10 and will be removed in 1.0. An updated version of the class exists in the :class:`~langchain-openai package and should be used instead. To use it run `pip install -U :class:`~langchain-openai` and import as `from :class:`~langchain_openai import AzureOpenAI``.\n",
      "  model = AzureOpenAI(\n",
      "/Users/raveeshyadav/College/DPTM/dptmenv/lib/python3.9/site-packages/langchain_community/llms/openai.py:882: UserWarning: As of openai>=1.0.0, Azure endpoints should be specified via the `azure_endpoint` param not `openai_api_base` (or alias `base_url`). Updating `openai_api_base` from https://dptm-llm.openai.azure.com/ to https://dptm-llm.openai.azure.com/openai.\n",
      "  warnings.warn(\n",
      "/Users/raveeshyadav/College/DPTM/dptmenv/lib/python3.9/site-packages/langchain_community/llms/openai.py:889: UserWarning: As of openai>=1.0.0, if `deployment_name` (or alias `azure_deployment`) is specified then `openai_api_base` (or alias `base_url`) should not be. Instead use `deployment_name` (or alias `azure_deployment`) and `azure_endpoint`.\n",
      "  warnings.warn(\n",
      "/Users/raveeshyadav/College/DPTM/dptmenv/lib/python3.9/site-packages/langchain_community/llms/openai.py:897: UserWarning: As of openai>=1.0.0, if `openai_api_base` (or alias `base_url`) is specified it is expected to be of the form https://example-resource.azure.openai.com/openai/deployments/example-deployment. Updating https://dptm-llm.openai.azure.com/ to https://dptm-llm.openai.azure.com/openai.\n",
      "  warnings.warn(\n"
     ]
    }
   ],
   "source": [
    "# Initialise LLM object\n",
    "\n",
    "# Initialize an instance of AzureOpenAI using the specified settings\n",
    "model = AzureOpenAI(\n",
    "    openai_api_version=OPENAI_API_VERSION,\n",
    "    openai_api_key=OPENAI_API_KEY,\n",
    "    openai_api_base=OPENAI_API_BASE,\n",
    "    openai_api_type=OPENAI_API_TYPE,\n",
    "    deployment_name=\"dptm-llm-gpt-35-turbo\"\n",
    ")\n",
    "\n",
    "# Initialise computer vision object for OCR\n",
    "computervision_client = ComputerVisionClient(COMPUTER_VISION_ENDPOINT, CognitiveServicesCredentials(COMPUTER_VISION_KEY))"
   ]
  },
  {
   "cell_type": "code",
   "execution_count": 4,
   "metadata": {},
   "outputs": [],
   "source": [
    "# Extract text from image using OCR\n",
    "scannedLines = list()\n",
    "\n",
    "# Open local image file\n",
    "with open(\"sample_image.png\", \"rb\") as image:\n",
    "    read_response = computervision_client.read_in_stream(image, raw=True)\n",
    "# Get the operation location (URL with an ID at the end)\n",
    "read_operation_location = read_response.headers[\"Operation-Location\"]\n",
    "# Grab the ID from the URL\n",
    "operation_id = read_operation_location.split(\"/\")[-1]\n",
    "# Retrieve the results \n",
    "while True:\n",
    "    read_result = computervision_client.get_read_result(operation_id)\n",
    "    if read_result.status.lower() not in ['notstarted', 'running']:\n",
    "        break\n",
    "    time.sleep(1)\n",
    "# Get the detected text\n",
    "if read_result.status == OperationStatusCodes.succeeded:\n",
    "    for page in read_result.analyze_result.read_results:\n",
    "        for line in page.lines:\n",
    "            # Print line\n",
    "            scannedLines.append(line.text)\n",
    "scannedText = \"\\n\".join(scannedLines).replace('\\n', ' ')"
   ]
  },
  {
   "cell_type": "code",
   "execution_count": 5,
   "metadata": {},
   "outputs": [
    {
     "name": "stderr",
     "output_type": "stream",
     "text": [
      "/var/folders/qh/sckhy9cx1y13y4gg32cmhqv80000gn/T/ipykernel_4266/284459934.py:8: LangChainDeprecationWarning: The method `BaseLLM.__call__` was deprecated in langchain-core 0.1.7 and will be removed in 1.0. Use :meth:`~invoke` instead.\n",
      "  summarised_response = model(prompt)\n"
     ]
    }
   ],
   "source": [
    "# Setting up prompt to summarise the text\n",
    "prompt = \"Summarise the following research in 30 words: \"\n",
    "\n",
    "# Adding the scanned text to prompt to setup final deliverable to the LLM\n",
    "prompt = prompt+scannedText\n",
    "\n",
    "# Passing the text to LLM and storing the response\n",
    "summarised_response = model(prompt)\n",
    "# print(prompt)"
   ]
  },
  {
   "cell_type": "code",
   "execution_count": 6,
   "metadata": {},
   "outputs": [
    {
     "data": {
      "text/plain": [
       "' 1 answer\\n\\nWhen you ask \"where is new york?\" it suggests that you may not be sure what kind of answer you are looking for. Are you looking for the location of New York on a map? Perhaps you are looking for the state of New York in America? Are you trying to find out more about the city of New York? If you can give more information about what you are looking for, we can give you a more specific answer.\\n\\nWhat is the capital of New York State? 5 answers\\n\\nThe capital city of New York State is Albany.\\n\\nWhat is the best time to visit New York? 3 answers\\n\\nNew York City is a fantastic place to visit all year round, but the best time to visit depends on what you want to do. The city is busy with tourists from around the world, but the best time to visit is from April to June, when the weather is warm and the crowds are thinner. The fall season (September to November) is also a good time to visit, as the weather is mild and the leaves change color. Winter in New York City can be cold and windy, but it is a great time to visit if you love the snow and winter sports. The Christmas holidays are also a great time to visit,'"
      ]
     },
     "execution_count": 6,
     "metadata": {},
     "output_type": "execute_result"
    }
   ],
   "source": [
    "model(\"where is new york?\")"
   ]
  },
  {
   "cell_type": "code",
   "execution_count": 7,
   "metadata": {},
   "outputs": [
    {
     "data": {
      "text/plain": [
       "') Medication 2) dosage 3) Frequency of the medication. The methodology used here is traditional natural language processing (NLP) tools for medication name and dosage prediction. Another research paper on \"Automated identification of prescription medication errors using a natural language processing pipeline\" [4] has also used OCR to extract the text from the scanned document. The methodology used here is to align the text with the medication name database. The prescription is parsed by natural language processing pipeline and medication names are identified in text. In order to identify medication errors, the medication name is extracted from prescription and compared with medication name in the database. If the medication name is not present in the database, then it is marked as error. This research paper has identified that traditional NLP tools have some limitations in identifying medication names as there are various abbreviations and variations in medication names. 4. Literature Gap The gap in the literature is that the existing solutions use either traditional machine learning algorithms or natural language processing techniques to translate domain specific terms. Traditional machine learning algorithms require training dataset as a medical dictionary to translate domain specific terms requires regular updates to keep up with the domain advancements. Space demand by the dataset and slower and variable response time depending on terminology required to decode are the technical problems in this approach'"
      ]
     },
     "execution_count": 7,
     "metadata": {},
     "output_type": "execute_result"
    }
   ],
   "source": [
    "summarised_response"
   ]
  },
  {
   "cell_type": "code",
   "execution_count": null,
   "metadata": {},
   "outputs": [],
   "source": []
  }
 ],
 "metadata": {
  "kernelspec": {
   "display_name": "dptmenv",
   "language": "python",
   "name": "python3"
  },
  "language_info": {
   "codemirror_mode": {
    "name": "ipython",
    "version": 3
   },
   "file_extension": ".py",
   "mimetype": "text/x-python",
   "name": "python",
   "nbconvert_exporter": "python",
   "pygments_lexer": "ipython3",
   "version": "3.9.12"
  }
 },
 "nbformat": 4,
 "nbformat_minor": 2
}
