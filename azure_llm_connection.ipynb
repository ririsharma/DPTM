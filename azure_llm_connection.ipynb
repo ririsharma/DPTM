{
 "cells": [
  {
   "cell_type": "markdown",
   "metadata": {},
   "source": [
    "### File to test Azure Open AI LLM connection using Langchain"
   ]
  },
  {
   "cell_type": "code",
   "execution_count": 1,
   "metadata": {},
   "outputs": [],
   "source": [
    "from langchain.llms import AzureOpenAI\n",
    "from langchain.chat_models import AzureChatOpenAI\n",
    "import os\n",
    "from dotenv import load_dotenv, find_dotenv"
   ]
  },
  {
   "cell_type": "code",
   "execution_count": 2,
   "metadata": {},
   "outputs": [],
   "source": [
    "# Load environment variables from the .env file\n",
    "load_dotenv(find_dotenv())\n",
    "\n",
    "# Retrieve Azure OpenAI specific configuration from environment variables\n",
    "OPENAI_API_KEY = os.getenv(\"AZURE_OPENAI_API_KEY\")\n",
    "OPENAI_API_TYPE = os.getenv(\"AZURE_OPENAI_API_TYPE\")\n",
    "OPENAI_API_BASE = os.getenv(\"AZURE_OPENAI_API_BASE\")\n",
    "OPENAI_API_VERSION = os.getenv(\"AZURE_OPENAI_API_VERSION\")\n",
    "LLM_RESOURCE_NAME = os.getenv(\"LLM_RESOURCE_NAME\")"
   ]
  },
  {
   "cell_type": "code",
   "execution_count": 3,
   "metadata": {},
   "outputs": [
    {
     "name": "stderr",
     "output_type": "stream",
     "text": [
      "/var/folders/qh/sckhy9cx1y13y4gg32cmhqv80000gn/T/ipykernel_4207/1263719874.py:8: LangChainDeprecationWarning: The class `AzureOpenAI` was deprecated in LangChain 0.0.10 and will be removed in 1.0. An updated version of the class exists in the :class:`~langchain-openai package and should be used instead. To use it run `pip install -U :class:`~langchain-openai` and import as `from :class:`~langchain_openai import AzureOpenAI``.\n",
      "  model = AzureOpenAI(\n",
      "/Users/raveeshyadav/College/DPTM/dptmenv/lib/python3.9/site-packages/langchain_community/llms/openai.py:882: UserWarning: As of openai>=1.0.0, Azure endpoints should be specified via the `azure_endpoint` param not `openai_api_base` (or alias `base_url`). Updating `openai_api_base` from https://dptm-llm.openai.azure.com/ to https://dptm-llm.openai.azure.com/openai.\n",
      "  warnings.warn(\n",
      "/Users/raveeshyadav/College/DPTM/dptmenv/lib/python3.9/site-packages/langchain_community/llms/openai.py:889: UserWarning: As of openai>=1.0.0, if `deployment_name` (or alias `azure_deployment`) is specified then `openai_api_base` (or alias `base_url`) should not be. Instead use `deployment_name` (or alias `azure_deployment`) and `azure_endpoint`.\n",
      "  warnings.warn(\n",
      "/Users/raveeshyadav/College/DPTM/dptmenv/lib/python3.9/site-packages/langchain_community/llms/openai.py:897: UserWarning: As of openai>=1.0.0, if `openai_api_base` (or alias `base_url`) is specified it is expected to be of the form https://example-resource.azure.openai.com/openai/deployments/example-deployment. Updating https://dptm-llm.openai.azure.com/ to https://dptm-llm.openai.azure.com/openai.\n",
      "  warnings.warn(\n"
     ]
    }
   ],
   "source": [
    "# Set the OpenAI library configuration using the retrieved environment variables\n",
    "# openai.api_type = OPENAI_API_TYPE\n",
    "# openai.api_base = OPENAI_API_BASE\n",
    "# openai.api_version = OPENAI_API_VERSION\n",
    "# openai.api_key = OPENAI_API_KEY\n",
    "\n",
    "# Initialize an instance of AzureOpenAI using the specified settings\n",
    "model = AzureOpenAI(\n",
    "    openai_api_version=OPENAI_API_VERSION,\n",
    "    openai_api_key=OPENAI_API_KEY,\n",
    "    openai_api_base=OPENAI_API_BASE,\n",
    "    openai_api_type=OPENAI_API_TYPE,\n",
    "    deployment_name=\"dptm-llm-gpt-35-turbo\"\n",
    ")"
   ]
  },
  {
   "cell_type": "code",
   "execution_count": 4,
   "metadata": {},
   "outputs": [
    {
     "name": "stderr",
     "output_type": "stream",
     "text": [
      "/var/folders/qh/sckhy9cx1y13y4gg32cmhqv80000gn/T/ipykernel_4207/2453172079.py:1: LangChainDeprecationWarning: The method `BaseLLM.__call__` was deprecated in langchain-core 0.1.7 and will be removed in 1.0. Use :meth:`~invoke` instead.\n",
      "  response = model(\"How to make alfredo pasta?\")\n"
     ]
    }
   ],
   "source": [
    "response = model(\"How to make alfredo pasta?\")"
   ]
  },
  {
   "cell_type": "code",
   "execution_count": 5,
   "metadata": {},
   "outputs": [
    {
     "data": {
      "text/plain": [
       "' The steps to follow\\n\\nThe first step to making Alfredo pasta is to cook the pasta until it is al dente. Be sure to leave it a little firm, as the heat from the sauce will soften it.\\n\\nIn a separate pan, melt the butter and add the cream, stirring continuously until it is combined.\\n\\nAdd the grated Parmesan cheese, salt, and pepper, and increase the heat to a moderate level. Keep stirring the sauce until it thickens, ensuring that there are no lumps in it.\\n\\nOnce the sauce has thickened, add the cooked pasta and stir it well. The sauce should be evenly distributed throughout the pasta.\\n\\nServe the pasta topped with fresh parsley and a sprinkle of pepper.\\n\\nWhat sides can you serve with alfredo pasta?\\n\\nAlfredo pasta is a rich and creamy dish, so it can be paired with a variety of sides. Here are some of the best sides that you can serve with Alfredo pasta:\\n\\nGarlic Bread: Garlic bread is the perfect side dish to go with Alfredo pasta. It is easy to make and adds an extra layer of flavor to the dish.\\n\\nSalad: A simple side salad can balance the richness of the Alfredo sauce. You can choose from a variety of salads, such as Caesar salad'"
      ]
     },
     "execution_count": 5,
     "metadata": {},
     "output_type": "execute_result"
    }
   ],
   "source": [
    "response"
   ]
  },
  {
   "cell_type": "code",
   "execution_count": null,
   "metadata": {},
   "outputs": [],
   "source": []
  }
 ],
 "metadata": {
  "kernelspec": {
   "display_name": "dptmenv",
   "language": "python",
   "name": "python3"
  },
  "language_info": {
   "codemirror_mode": {
    "name": "ipython",
    "version": 3
   },
   "file_extension": ".py",
   "mimetype": "text/x-python",
   "name": "python",
   "nbconvert_exporter": "python",
   "pygments_lexer": "ipython3",
   "version": "3.9.12"
  }
 },
 "nbformat": 4,
 "nbformat_minor": 2
}
